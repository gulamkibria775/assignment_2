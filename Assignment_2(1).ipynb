{
 "cells": [
  {
   "cell_type": "markdown",
   "metadata": {},
   "source": [
    "                                                ans to the Q no 1\n",
    "                                                \n",
    " there are two values of Boolean data type :\n",
    " 0 and 1 .we write them Flase and True\n"
   ]
  },
  {
   "cell_type": "markdown",
   "metadata": {},
   "source": [
    "                                                  ans to the Q no 2\n",
    "                                                  \n",
    " there are three different types of Boolean operators:\n",
    " \n",
    " or(|) ,and(&) ,NOt(!)"
   ]
  },
  {
   "cell_type": "markdown",
   "metadata": {},
   "source": [
    "#                                                  ans to the Q no 3\n",
    "                                                  \n",
    "Below make a list of each Boolean operator's truth table:                                                  \n",
    "       \n",
    "   \n",
    "       \n",
    "#  True | Ture = True       True & Ture = True              !True=Flase\n",
    "\n",
    "# True | Flase =True       True & Flase =Flase             !Flase=True\n",
    "\n",
    "# Flase | True = True       Flase & True = Flase\n",
    "\n",
    "# Flase | Flase = Flase     Flase & Flase = Flase"
   ]
  },
  {
   "cell_type": "raw",
   "metadata": {},
   "source": [
    "                                                     ans to the Q no 4\n",
    "                                                     \n",
    "                                                     \n",
    "   (5>4) and (3==5)      #Flase\n",
    "   \n",
    "   not(5>4)              #Flase\n",
    "   \n",
    "   (5>4) or (3==5)       #True\n",
    "   \n",
    "   not((5>4) or (3==5))  #Flase\n",
    "   \n",
    "   (True and True) and (True == False) #Flase\n",
    "   \n",
    "   (not False) or (not True)  #True\n",
    "   "
   ]
  },
  {
   "cell_type": "raw",
   "metadata": {},
   "source": [
    "                                           ans to the Q no 5\n",
    "                                           \n",
    " there are six comparison operators: \n",
    " \n",
    " 1. greater than  (>)\n",
    " \n",
    " 2.less than  (<)  \n",
    " \n",
    " \n",
    " 3.less than or equal to  (<=)\n",
    " \n",
    " 4.greater than or equal to (=>)\n",
    " \n",
    " 5.equal to  (==)\n",
    " \n",
    " 6.not equal to  (!==)\n",
    " "
   ]
  },
  {
   "cell_type": "markdown",
   "metadata": {},
   "source": [
    "                                      ans to the Q no 6\n",
    "                                      \n",
    "                                      \n",
    "  The “=” is an assignment operator is used to assign the value on the right to the variable on the left. The '==' operator checks whether the two given operands are equal or not. If so, it returns true. otherwise it returns false.\n",
    "  example :\n",
    "  x=4 #assingnment operator\n",
    "  5==4 #return Flase \n",
    "                                      \n",
    "                                      "
   ]
  },
  {
   "cell_type": "markdown",
   "metadata": {},
   "source": [
    "                                 ans to the Q no 7\n",
    "    \n",
    "    \n",
    "    \n",
    "\n",
    "spam = 0\n",
    "\n",
    "if spam == 10:\n",
    "    print('eggs')\n",
    "    if spam > 5:\n",
    "        print('bacon')\n",
    "    else:\n",
    "        print('ham')\n",
    "    print('spam')\n",
    "print('spam')\n",
    "        "
   ]
  },
  {
   "cell_type": "markdown",
   "metadata": {},
   "source": [
    "                                ans to the Q no 8\n",
    "    \n",
    "     spam=2\n",
    "        \n",
    "        \n",
    "if spam==1:\n",
    "    print('Hello')\n",
    "elif spam==2:\n",
    "    print('Howdy')\n",
    "else:\n",
    "    print(Greetings!)"
   ]
  },
  {
   "cell_type": "markdown",
   "metadata": {},
   "source": [
    "                                              ans to the Q no 9\n",
    "                            \n",
    "                            \n",
    " if i programme is stuck in an endless loop , i will press (Ctrl+C)                           "
   ]
  },
  {
   "cell_type": "markdown",
   "metadata": {},
   "source": [
    "                                                  ans to the Q no 10\n",
    "                                                  \n",
    "                                                  \n",
    "                                                  \n",
    " The main difference between break and continue statement is that when break keyword is encountered, it will exit the loop. In case of continue keyword, the current iteration that is running will be stopped, and it will proceed with the next iteration.                                                   "
   ]
  },
  {
   "cell_type": "markdown",
   "metadata": {},
   "source": [
    "                                            ans to the Q no 11\n",
    "                                            \n",
    "                                            \n",
    "  range(10)  #output 0 1 2 3 4 5 6 7 8 9 \n",
    "  \n",
    "  \n",
    "  range(0,10) # output 0 1 2 3 4 5 6 7 8 9\n",
    "  \n",
    "  \n",
    "  range(0,10,1) # output 0 1 2 3 4 5 6 7 8 9\n",
    "   "
   ]
  },
  {
   "cell_type": "markdown",
   "metadata": {},
   "source": [
    "                                    ans to the Q no 12\n",
    "                                    \n",
    "\n",
    "for i in range(1, 11):\n",
    "    print(i, end=\" \")\n",
    "\n",
    "\n",
    "\n",
    "i = 1\n",
    "while i < 11:\n",
    "  print(i)\n",
    "  i += 1"
   ]
  },
  {
   "cell_type": "markdown",
   "metadata": {},
   "source": [
    "                                  ans to the Q no 13\n",
    "                                  \n",
    "   import bacon from spam   # bacon function input form  spam module \n",
    "   \n",
    "   \n",
    "    bacon()               #bcon() funtion call"
   ]
  },
  {
   "cell_type": "code",
   "execution_count": null,
   "metadata": {},
   "outputs": [],
   "source": []
  },
  {
   "cell_type": "code",
   "execution_count": null,
   "metadata": {},
   "outputs": [],
   "source": []
  }
 ],
 "metadata": {
  "kernelspec": {
   "display_name": "Python 3",
   "language": "python",
   "name": "python3"
  },
  "language_info": {
   "codemirror_mode": {
    "name": "ipython",
    "version": 3
   },
   "file_extension": ".py",
   "mimetype": "text/x-python",
   "name": "python",
   "nbconvert_exporter": "python",
   "pygments_lexer": "ipython3",
   "version": "3.8.5"
  }
 },
 "nbformat": 4,
 "nbformat_minor": 4
}
